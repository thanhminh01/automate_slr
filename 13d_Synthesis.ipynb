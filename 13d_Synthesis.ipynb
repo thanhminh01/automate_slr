{
 "cells": [
  {
   "cell_type": "code",
   "execution_count": null,
   "id": "bb2bc2a0",
   "metadata": {},
   "outputs": [],
   "source": [
    "import os\n",
    "os.environ[\"OPENAI_API_KEY\"]=\"Your_GPT_key_here\""
   ]
  },
  {
   "cell_type": "code",
   "execution_count": null,
   "id": "33d7358e",
   "metadata": {},
   "outputs": [],
   "source": [
    "from dokument import Dokument\n",
    "from synthesis import Synthesis\n",
    "\n",
    "import pickle\n",
    "# load your Synthesis object with existing .topic and .eligible_documents attributes\n",
    "with open(\"synthesis_task.pkl\", \"rb\") as file:\n",
    "    synthesis_task = pickle.load(file)\n",
    "print(\"Research topic to be synthesized: \", synthesis_task.topic)"
   ]
  },
  {
   "cell_type": "code",
   "execution_count": null,
   "id": "33ea6ce0",
   "metadata": {},
   "outputs": [],
   "source": [
    "# Define the template for the coding of thematic analysis, including the research topic and document text\n",
    "code_template = (\"\"\"\n",
    "Consider the research topic:\n",
    "{topic}\n",
    "\n",
    "And the text input from a publication:\n",
    "Text inputs:\n",
    "{docs}\n",
    "\n",
    "Please perform the following tasks for thematic analysis:\n",
    "\n",
    "Identify and Assign Codes:\n",
    "For each segment of text that is relevant to the research topic, identify and assign a code.\n",
    "Provide Code Details:\n",
    "For each code, output the following information:\n",
    "\n",
    "Code Name: A concise, descriptive name for the code.\n",
    "Code Definition: A brief explanation of what the code represents.\n",
    "Example: An illustrative quote or excerpt that exemplifies the code.\n",
    "\n",
    "Example Output 1:\n",
    "**Code Name**: Product Quality\n",
    "**Code Definition**: Describes the perceived value and performance of a product.\n",
    "**Example**: Many reviews highlighted the excellent build quality and durability of the product.\n",
    "\n",
    "Example Output 2:\n",
    "**Code Name**: User Feedback\n",
    "**Code Definition**: \"Encompasses comments and suggestions provided by users to improve the product or service.\n",
    "**Example**: \"Users suggested adding more customization options to enhance their experience.\n",
    "\"\"\")\n",
    "\n",
    "# Format the template with the specific research topic and a placeholder for document text\n",
    "code_template_formatted = code_template.format(topic=synthesis_task.topic, docs=\"{docs}\")\n",
    "\n",
    "# Create a ChatPromptTemplate instance using the formatted template\n",
    "from langchain.prompts import ChatPromptTemplate\n",
    "codes_prompt = ChatPromptTemplate.from_template(code_template_formatted)\n",
    "\n",
    "# Initialize the GPT-4 model with specified parameters (e.g., temperature setting and model name)\n",
    "from langchain_openai import ChatOpenAI\n",
    "gpt4_model = ChatOpenAI(temperature=0, model_name=\"gpt-4-0125-preview\")\n",
    "\n",
    "# Set up the output parser to handle the model's responses\n",
    "from langchain.schema.output_parser import StrOutputParser\n",
    "str_output_parser = StrOutputParser()\n",
    "\n",
    "# Chain the prompt, model, and output parser to create the coding chain for a thematic analysis\n",
    "codes_chain = codes_prompt | gpt4_model | str_output_parser"
   ]
  },
  {
   "cell_type": "code",
   "execution_count": null,
   "id": "8284697c",
   "metadata": {},
   "outputs": [],
   "source": [
    "# Define an asynchronous function to process and assign codes for each document\n",
    "async def codes_from_raw_data(dokument_list):\n",
    "    # Extract raw data from each document in the list\n",
    "    raw_data_list = [doc.raw_data for doc in dokument_list]\n",
    "    \n",
    "    # Run the codes chain on the raw data of all documents asynchronously\n",
    "    codes_list = await codes_chain.abatch(raw_data_list)\n",
    "    \n",
    "    # Assign the results to each document and print the codes\n",
    "    for i in range(len(dokument_list)):\n",
    "        dokument_list[i].codes = codes_list[i]\n",
    "        print(f\"Document {i+1}:\")\n",
    "        print(\"Codes:\", dokument_list[i].codes)\n",
    "        print(\"-\" * 30)  # Separator\n",
    "\n",
    "# Usage: Run the function on the list of eligible documents\n",
    "await codes_from_raw_data(synthesis_task.eligible_documents)"
   ]
  },
  {
   "cell_type": "code",
   "execution_count": null,
   "id": "a6716b97",
   "metadata": {},
   "outputs": [],
   "source": [
    "print(synthesis_task.eligible_documents[0].DOI)"
   ]
  },
  {
   "cell_type": "code",
   "execution_count": null,
   "id": "00be556d",
   "metadata": {},
   "outputs": [],
   "source": [
    "# Define the template for identifying themes from coded data, including the research topic\n",
    "themes_template = (\"\"\"\n",
    "Consider the research topic: {topic}\n",
    "\n",
    "You will receive input of coded data from a research document, which contains categorized segments of text.\n",
    "For the process of thematic analysis regarding the research topic,\n",
    "identify overarching themes that encapsulate common patterns present across the coded segments. \n",
    "Only include themes that are relevant to the research topic. \n",
    "\n",
    "Coded data input:\n",
    "{docs}\n",
    "\n",
    "Example output 1:\n",
    "**Theme Name**: Product Quality Perception\n",
    "\n",
    "**Description**: Overall assessment of how customers perceive the quality of the product, \n",
    "encompassing both high quality and poor quality.\n",
    "\n",
    "Example output 2:\n",
    "**Theme Name**: Customer Experience\n",
    "\n",
    "**Description**: Includes all aspects of the customer’s interaction with the product and service, \n",
    "such as satisfaction and dissatisfaction.\n",
    "\"\"\")\n",
    "\n",
    "# Format the template with the specific research topic and a placeholder for coded data\n",
    "themes_template_formatted = themes_template.format(topic=synthesis_task.topic, docs=\"{docs}\")\n",
    "\n",
    "# Create a ChatPromptTemplate instance using the formatted template\n",
    "themes_prompt = ChatPromptTemplate.from_template(themes_template_formatted)\n",
    "\n",
    "# Chain the prompt, model, and output parser to create the thematic analysis chain\n",
    "themes_chain = themes_prompt | gpt4_model | str_output_parser"
   ]
  },
  {
   "cell_type": "code",
   "execution_count": null,
   "id": "c21bda6a",
   "metadata": {},
   "outputs": [],
   "source": [
    "# Define an asynchronous function to process and assign themes based on coded data for each document\n",
    "async def themes_from_codes(dokument_list):\n",
    "    # Extract codes from each document in the list\n",
    "    codes_list = [doc.codes for doc in dokument_list]\n",
    "    \n",
    "    # Run the themes chain on the coded data of all documents asynchronously\n",
    "    themes_list = await themes_chain.abatch(codes_list)\n",
    "    \n",
    "    # Assign the results to each document and print the themes\n",
    "    for i in range(len(dokument_list)):\n",
    "        dokument_list[i].themes = themes_list[i]\n",
    "        print(f\"Document {i+1}:\")\n",
    "        print(\"Themes:\", dokument_list[i].themes)\n",
    "        print(\"-\" * 30)  # Separator\n",
    "\n",
    "# Usage: Run the function on the list of eligible documents\n",
    "await themes_from_codes(synthesis_task.eligible_documents)"
   ]
  },
  {
   "cell_type": "code",
   "execution_count": null,
   "id": "0caf4525",
   "metadata": {},
   "outputs": [],
   "source": [
    "# Prepare a variable to accumulate the themes output for all eligible documents\n",
    "themes_output = \"\"\n",
    "\n",
    "# Iterate over each eligible document to append its themes to the output variable\n",
    "for i in range(len(synthesis_task.eligible_documents)):\n",
    "    themes_output += f\"Document {i+1}:\\n\"\n",
    "    themes_output += f\"Themes: {synthesis_task.eligible_documents[i].themes}\\n\"\n",
    "    themes_output += \"-\" * 30 + \"\\n\"  # Add a separator for better readability\n",
    "\n",
    "# Count number of tokens in the accumulated themes output\n",
    "num_tokens = gpt4_model.get_num_tokens(themes_output)\n",
    "\n",
    "# Check if the number of tokens exceeds the model's limit and print an appropriate message\n",
    "if num_tokens > 128000:\n",
    "    print(\"The output is too long for this model.\")\n",
    "else:\n",
    "    print(themes_output)"
   ]
  },
  {
   "cell_type": "code",
   "execution_count": null,
   "id": "28edcf8e",
   "metadata": {},
   "outputs": [],
   "source": [
    "# Define the template for synthesizing overarching themes based on identified themes\n",
    "synthesis_template = (\"\"\"\n",
    "Consider the research topic: {topic}\n",
    "\n",
    "For the process of thematic analysis regarding the research topic,\n",
    "You will receive the input: A list of themes derived from coded segments from various \n",
    "related research documents.\n",
    "Review the list of identified themes and synthesize a final list of overarching themes that \n",
    "address the research topic. \n",
    "Keep track of the context, document your rationale, and \n",
    "include references to the document numbers where each theme is found.\n",
    "\n",
    "List of themes input:\n",
    "{themes}\n",
    "\n",
    "\"\"\")\n",
    "\n",
    "# Format the template with the specific research topic and a placeholder for themes\n",
    "synthesis_template_formatted = synthesis_template.format(topic=synthesis_task.topic, themes=\"{themes}\")\n",
    "\n",
    "# Create a ChatPromptTemplate instance using the formatted synthesis template\n",
    "synthesis_prompt = ChatPromptTemplate.from_template(synthesis_template_formatted)\n",
    "\n",
    "# Chain the prompt, GPT-4 model, and output parser to create the synthesis chain\n",
    "synthesis_chain = synthesis_prompt | gpt4_model | str_output_parser"
   ]
  },
  {
   "cell_type": "code",
   "execution_count": null,
   "id": "73d8394d",
   "metadata": {},
   "outputs": [],
   "source": [
    "# Invoke the synthesis chain to generate a synthesis result based on the themes output\n",
    "synthesis_result = synthesis_chain.invoke(themes_output)\n",
    "print(synthesis_result)"
   ]
  },
  {
   "cell_type": "code",
   "execution_count": null,
   "id": "7c87805f",
   "metadata": {},
   "outputs": [],
   "source": [
    "# Save the results into a new file with added \"_finished\" to file name\n",
    "synthesis_task.synthesis_result = synthesis_result\n",
    "with open(\"synthesis_task_finished.pkl\", \"wb\") as file:\n",
    "    pickle.dump(synthesis_task, file)"
   ]
  },
  {
   "cell_type": "markdown",
   "id": "162b3b74",
   "metadata": {},
   "source": [
    "Optional: The synthesis result along with the codes and themes of individual documents can now be viewed by running this script from this point onward, without having to run from the beginning of this .ipynb file"
   ]
  },
  {
   "cell_type": "code",
   "execution_count": 1,
   "id": "ddd2f5d2",
   "metadata": {},
   "outputs": [
    {
     "name": "stdout",
     "output_type": "stream",
     "text": [
      "Research topic is: how accessibility can be improved using mixed reality?\n"
     ]
    }
   ],
   "source": [
    "import pickle\n",
    "from dokument import Dokument\n",
    "from synthesis import Synthesis\n",
    "\n",
    "# load your Synthesis object with existing .topic and .eligible_documents attribute\n",
    "with open(\"synthesis_task_finished.pkl\", \"rb\") as file:\n",
    "    synthesis_task_result = pickle.load(file)\n",
    "print(\"Research topic is:\", synthesis_task_result.topic)"
   ]
  },
  {
   "cell_type": "code",
   "execution_count": 2,
   "id": "99935099",
   "metadata": {},
   "outputs": [
    {
     "name": "stdout",
     "output_type": "stream",
     "text": [
      "Codes of Document 1 with DOI 10.1145/2893182 :\n",
      "**Code Name**: Mixed Reality Gaming Experience\n",
      "**Code Definition**: Describes the overall experience and engagement of users with mixed reality games, specifically focusing on adult powered chair users.\n",
      "**Example**: \"Findings from two exploratory field studies and a post hoc observer survey show that adult powered chair users found the game to be entertaining and used a variety of path strategies as they learned to play the game.\"\n",
      "\n",
      "**Code Name**: Accessibility in Gaming\n",
      "**Code Definition**: Refers to the design and implementation of game features that make them accessible and inclusive for users with diverse abilities, particularly those using powered mobility aids.\n",
      "**Example**: \"An initial set of theoretically and empirically informed guidelines for making mobile mixed reality games accessible to adult powered chair users with diverse abilities is proposed.\"\n",
      "\n",
      "**Code Name**: Social Interaction Through Gaming\n",
      "**Code Definition**: Highlights the role of mixed reality games in facilitating social interactions and connections among players, including those with mobility restrictions.\n",
      "**Example**: \"Our primary contribution is a set of empirical findings on the nature and entertainment value of a social, mobile mixed reality game from two field studies featuring members of the target group interacting with the technology and each other in an everyday setting.\"\n",
      "\n",
      "**Code Name**: Game Design Challenges\n",
      "**Code Definition**: Identifies specific challenges encountered in the design and execution of mixed reality games that are accessible and engaging for users with mobility aids.\n",
      "**Example**: \"The artifacts that are produced—whether they be physical technology or a conceptual game—often require post hoc modifications and/or accommodations to be made accessible, which is an exclusionary and expensive practice.\"\n",
      "\n",
      "**Code Name**: Empirical Guidelines for Inclusive Gaming\n",
      "**Code Definition**: Refers to the development of guidelines based on empirical research aimed at creating inclusive gaming experiences for individuals with mobility aids.\n",
      "**Example**: \"Our secondary contribution is an initial set of guidelines for includifying, or making inclusive, traditional games designed for people without disabilities through the use of technological augmentations, particularly mixed reality.\"\n",
      "\n",
      "**Code Name**: User-Centered Game Development\n",
      "**Code Definition**: Describes the process of involving the target user group, such as adult powered chair users, in the development process of mixed reality games to ensure their needs and preferences are addressed.\n",
      "**Example**: \"Framed by universal design and entertainment theories, our research addresses mixed reality gaming for a diversity of users’ needs, including alternative input and output devices, accessible information presentation, and inclusive play with non-powered chair users, such as friends and family.\"\n"
     ]
    }
   ],
   "source": [
    "# index of document to view codes from\n",
    "index = 1\n",
    "print(\"Codes of Document\", index, \"with DOI\", synthesis_task_result.eligible_documents[index].DOI, \":\")\n",
    "print(synthesis_task_result.eligible_documents[index].codes)"
   ]
  },
  {
   "cell_type": "code",
   "execution_count": 5,
   "id": "86aeda5a",
   "metadata": {},
   "outputs": [
    {
     "name": "stdout",
     "output_type": "stream",
     "text": [
      "Themes of Document 0 with DOI 10.1145/2702613.2702626 :\n",
      "**Theme Name**: Enhancing Accessibility through Technological Innovation\n",
      "\n",
      "**Description**: This theme encapsulates the development and application of Sensory Substitution Devices (SSDs) and mixed reality technologies to improve accessibility for individuals with sensory impairments. It highlights the transformative potential of these technologies in creating more inclusive virtual environments and interfaces, thereby enabling users, especially those with visual impairments, to better navigate, understand, and interact with digital spaces. This theme underscores the importance of technological advancements in bridging accessibility gaps and enhancing the user experience for individuals with disabilities.\n",
      "\n",
      "**Theme Name**: User-Centric Design and Feedback Integration\n",
      "\n",
      "**Description**: Central to improving accessibility with mixed reality is the emphasis on user-centered design and the integration of feedback from users with disabilities. This theme focuses on the iterative process of collecting, analyzing, and incorporating user feedback, particularly from blind or visually impaired individuals, into the design and refinement of SSDs and mixed reality applications. It underscores the significance of engaging with the end-users in the development process to ensure that the technologies meet their needs and preferences, thereby enhancing usability and effectiveness.\n",
      "\n",
      "**Theme Name**: Multisensory Interaction and Augmentation\n",
      "\n",
      "**Description**: This theme explores the expansion of human sensory experiences through the use of SSDs and mixed reality technologies to provide new or enhanced senses. It highlights the exploration of multisensory interactions and the potential of these technologies to augment reality in ways that can compensate for sensory impairments. This theme reflects on the innovative approaches to sensory augmentation that can significantly improve the quality of life for individuals with disabilities, offering them new ways to perceive and interact with the world.\n",
      "\n",
      "**Theme Name**: Cognitive and Neural Adaptation\n",
      "\n",
      "**Description**: Investigating the cognitive and neural mechanisms underlying the use of SSDs and mixed reality for accessibility improvement forms a crucial theme. This includes research into how these technologies affect brain activity, particularly in individuals with sensory impairments, and how they adapt to new modes of sensory input. This theme emphasizes the importance of understanding the neural correlates of virtual world processing and the potential cognitive benefits, such as cross-sensory transfer and enhanced sensory-motor integration, that these technologies can offer.\n",
      "\n",
      "**Theme Name**: Bridging Practical and Research Applications\n",
      "\n",
      "**Description**: This theme addresses the dual role of SSDs and mixed reality technologies in both practical rehabilitation and scientific research. It highlights the distinction and interplay between using these technologies for everyday accessibility improvements and leveraging them to gain deeper insights into sensory perception, cognitive processes, and neural mechanisms. This theme underscores the multifaceted value of these technologies, not only in enhancing accessibility and quality of life for individuals with disabilities but also in advancing our understanding of human sensory and cognitive systems.\n"
     ]
    }
   ],
   "source": [
    "# index of document to view themes from\n",
    "index = 0\n",
    "print(\"Themes of Document\", index, \"with DOI\", synthesis_task_result.eligible_documents[index].DOI, \":\")\n",
    "print(synthesis_task_result.eligible_documents[index].themes)"
   ]
  },
  {
   "cell_type": "code",
   "execution_count": 4,
   "id": "cd3e1156",
   "metadata": {},
   "outputs": [
    {
     "name": "stdout",
     "output_type": "stream",
     "text": [
      "Synthesis result from processing 9 documents:\n",
      "Based on the input themes from the various documents, we can synthesize a final list of overarching themes that address the research topic of improving accessibility using mixed reality. The synthesis process involves identifying commonalities, merging similar themes, and highlighting unique contributions from each document to ensure a comprehensive understanding of the topic. Here is the synthesized list of overarching themes:\n",
      "\n",
      "### 1. **Enhancing Accessibility through Mixed Reality Innovations**\n",
      "- **Sub-themes**: Technological Innovation (Doc 1), Enhancing Accessibility Through Design (Doc 2), Enhancing Accessibility in Mixed Reality (Doc 3), Enhancing Accessibility through Sensory Adaptation (Doc 4), Enhancing VR Accessibility for Low Vision Users (Doc 5), Enhancing Navigational Accessibility through Mixed Reality (Doc 9).\n",
      "- **Rationale**: This theme consolidates the various technological advancements and innovations across documents that aim to improve accessibility. It includes the development of SSDs, VR tools like SeeingVR, and AR applications for navigation, highlighting the broad spectrum of mixed reality technologies being leveraged to address accessibility challenges.\n",
      "\n",
      "### 2. **User-Centric Design and Engagement**\n",
      "- **Sub-themes**: User-Centric Design and Feedback Integration (Doc 1), User-Centric Development and Engagement (Doc 2), User-Centric Design in Accessibility Tools (Doc 3), User-Centered Design and Feedback (Doc 4), Inclusive Design and Accessibility (Doc 7), User-Centric Design and Feedback (Doc 8).\n",
      "- **Rationale**: This theme emphasizes the importance of involving users with disabilities in the design and development process. It reflects a consistent focus across documents on collecting and integrating user feedback to ensure that mixed reality technologies meet the actual needs and preferences of end-users.\n",
      "\n",
      "### 3. **Multisensory Interaction and Augmentation**\n",
      "- **Sub-themes**: Multisensory Interaction and Augmentation (Doc 1), Enhancing User Experience through Sensory Feedback (Doc 7), Multi-Modal Interaction for Inclusive Access (Doc 9).\n",
      "- **Rationale**: Highlighting the exploration and implementation of multisensory interactions, this theme underscores the potential of mixed reality to provide new or enhanced sensory experiences. It includes the use of auditory, haptic, and visual feedback to create more accessible and immersive environments for users with various disabilities.\n",
      "\n",
      "### 4. **Empirical Foundations and Validation**\n",
      "- **Sub-themes**: Cognitive and Neural Adaptation (Doc 1), Empirical Foundations for Inclusive Gaming (Doc 2), Empirical Validation of Accessibility Strategies (Doc 4).\n",
      "- **Rationale**: This theme captures the importance of grounding mixed reality accessibility improvements in empirical research. It includes studies on cognitive and neural adaptation, as well as the testing and validation of accessibility strategies, highlighting the scientific basis for the development and refinement of these technologies.\n",
      "\n",
      "### 5. **Developer Engagement and Support**\n",
      "- **Sub-themes**: Bridging Practical and Research Applications (Doc 1), Developer Engagement and Support (Doc 3), Developer Tools and Integration for Accessible VR (Doc 5).\n",
      "- **Rationale**: Focusing on the role of developers in enhancing accessibility, this theme underscores the need for tools, guidelines, and support systems that facilitate the integration of accessibility features into mixed reality applications. It reflects an understanding of the challenges developers face and the importance of providing them with the resources needed to create more inclusive technologies.\n",
      "\n",
      "### 6. **Balancing Accessibility with Immersion and Usability**\n",
      "- **Sub-themes**: Balancing Accessibility and Immersion (Doc 3), Technical and Perceptual Challenges (Doc 6), Accessibility and Usability Challenges (Doc 8).\n",
      "- **Rationale**: This theme addresses the challenges of designing mixed reality experiences that are both accessible and immersive. It includes considerations for overcoming technical and perceptual barriers, ensuring that enhancements for accessibility do not detract from the overall user experience or immersion.\n",
      "\n",
      "### 7. **Future Directions and Standards in Accessibility**\n",
      "- **Sub-themes**: Future Directions in VR Accessibility Standards (Doc 5), Standardization and Usability (Doc 7).\n",
      "- **Rationale**: Highlighting the need for ongoing research, development, and standardization, this theme captures the aspirations towards establishing comprehensive accessibility guidelines for mixed reality content. It underscores the importance of creating universally accessible technologies through the development of standards and best practices.\n",
      "\n",
      "These synthesized themes provide a comprehensive overview of the current state and future directions of improving accessibility using mixed reality technologies. They reflect a collective emphasis on innovation, user-centric design, multisensory augmentation, empirical validation, developer support, and the balance between accessibility and immersion, all aimed at creating more inclusive digital environments.\n"
     ]
    }
   ],
   "source": [
    "print(\"Synthesis result from processing\", len(synthesis_task_result.eligible_documents), \"documents:\")\n",
    "print(synthesis_task_result.synthesis_result)"
   ]
  },
  {
   "cell_type": "code",
   "execution_count": null,
   "id": "c7d3aaed",
   "metadata": {},
   "outputs": [],
   "source": []
  }
 ],
 "metadata": {
  "kernelspec": {
   "display_name": "sample_env",
   "language": "python",
   "name": "sample_env"
  },
  "language_info": {
   "codemirror_mode": {
    "name": "ipython",
    "version": 3
   },
   "file_extension": ".py",
   "mimetype": "text/x-python",
   "name": "python",
   "nbconvert_exporter": "python",
   "pygments_lexer": "ipython3",
   "version": "3.9.2"
  }
 },
 "nbformat": 4,
 "nbformat_minor": 5
}
