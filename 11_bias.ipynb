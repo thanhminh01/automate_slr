{
 "cells": [
  {
   "cell_type": "code",
   "execution_count": null,
   "id": "c01ea853",
   "metadata": {},
   "outputs": [],
   "source": [
    "import os\n",
    "os.environ[\"OPENAI_API_KEY\"]=\"Your_GPT_key_here\""
   ]
  },
  {
   "cell_type": "code",
   "execution_count": null,
   "id": "8d22fa3e",
   "metadata": {},
   "outputs": [],
   "source": [
    "from dokument import Dokument\n",
    "from synthesis import Synthesis\n",
    "\n",
    "import pickle\n",
    "# Load list of documents with text data previously extracted\n",
    "with open(\"dokument_list.pkl\", \"rb\") as file:\n",
    "    dokument_list = pickle.load(file)\n",
    "print(\"Loaded\", len(dokument_list), \"documents\")"
   ]
  },
  {
   "cell_type": "code",
   "execution_count": null,
   "id": "1a2c0cde",
   "metadata": {},
   "outputs": [],
   "source": [
    "# Template for extracting risk of bias information from document text\n",
    "signalling_template = \"\"\"Consider the following text extracted from a document:\n",
    "{docs}\n",
    "If a trial is conducted and described in the document,\n",
    "For each of the following signalling questions, determine the level of risk of bias as \n",
    "\"low\", \"unclear\", or \"high\" based on information found about the trial. \n",
    "If the document contains multiple trials, answer the signalling questions \n",
    "for each trials individually. Skip the task but justify the decision if no trial\n",
    "is involved in the document\n",
    "\n",
    "### Domain 1: Sequence Generation\n",
    "1. Was the allocation sequence adequately generated?\n",
    "\n",
    "### Domain 2: Allocation Concealment\n",
    "2. Was the allocation adequately concealed?\n",
    "\n",
    "### Domain 3: Blinding\n",
    "3. Were participants and study personnel blinded to the intervention?\n",
    "4. Was the blinding of outcome assessment adequate?\n",
    "\n",
    "### Domain 4: Incomplete Outcome Data\n",
    "5. Were there incomplete outcome data?\n",
    "6. Were incomplete outcome data adequately addressed?\n",
    "\n",
    "### Domain 5: Selective Reporting\n",
    "7. Was the study free from selective outcome reporting?\n",
    "\n",
    "### Domain 6: Other Sources of Bias\n",
    "8. Were the groups similar at baseline for important prognostic factors?\n",
    "9. Was the study apparently free of other problems that could put it at a high risk of bias?\"\"\"\n",
    "\n",
    "# Create a ChatPromptTemplate using the signalling template\n",
    "from langchain.prompts import ChatPromptTemplate\n",
    "signalling_prompt = ChatPromptTemplate.from_template(signalling_template)\n",
    "\n",
    "# Initialize the GPT-4 model with specified parameters\n",
    "from langchain_openai import ChatOpenAI\n",
    "gpt4_model = ChatOpenAI(temperature=0, model_name=\"gpt-4-0125-preview\")\n",
    "\n",
    "# Set up the output parser to handle the model's responses\n",
    "from langchain.schema.output_parser import StrOutputParser\n",
    "str_output_parser = StrOutputParser()\n",
    "\n",
    "# Chain the prompt, model, and output parser to create the signalling_chain\n",
    "signalling_chain = signalling_prompt | gpt4_model | str_output_parser"
   ]
  },
  {
   "cell_type": "code",
   "execution_count": null,
   "id": "637e53d8",
   "metadata": {
    "scrolled": true
   },
   "outputs": [],
   "source": [
    "# Define an asynchronous function to process signalling questions for each document\n",
    "async def answers_to_signalling_question(dokument_list):\n",
    "    # Extract raw data from each document in the list\n",
    "    raw_data_list = [doc.raw_data for doc in dokument_list]\n",
    "    \n",
    "    # Run the signalling questions chain on the raw data of all documents\n",
    "    signalling_questions_results = await signalling_chain.abatch(raw_data_list)\n",
    "    \n",
    "    # Assign the results to each document and print the results\n",
    "    for i in range(len(dokument_list)):\n",
    "        dokument_list[i].rob_sqa = signalling_questions_results[i]\n",
    "        print(f\"Document {i+1}:\")\n",
    "        print(\"Signalling question results:\", dokument_list[i].rob_sqa)\n",
    "        print(\"-\" * 30)  # Separator\n",
    "\n",
    "# Usage: Run the function on the dokument_list\n",
    "await answers_to_signalling_question(dokument_list)"
   ]
  },
  {
   "cell_type": "code",
   "execution_count": null,
   "id": "8a487500",
   "metadata": {},
   "outputs": [],
   "source": [
    "# Template for determining the overall Risk of Bias (RoB) for a document\n",
    "roblevel_template = \"\"\"\n",
    "\n",
    "You have previously assessed the risk of bias for individual trials within a document. \n",
    "Here is the assessment: {docs}\n",
    "\n",
    "Now, if relevant information was provided in the assessment, determine the overall Risk of Bias (RoB) across the entire document based on the assessments of \n",
    "individual trials. Use the following criteria to summarize the RoB:\n",
    "\n",
    "1. **Low RoB within a trial**: Low risk of bias across all key domains\n",
    "2. **Low RoB across trials**: Most information is from trials at low risk of bias\n",
    "\n",
    "3. **Unclear RoB within a trial**: Low or unclear risk of bias for all key domains\n",
    "4. **Unclear RoB across trials**: Most information is from trials at low or unclear risk of bias\n",
    "\n",
    "5. **High RoB within a trial**: High risk of bias for one or more key domains\n",
    "6. **High RoB across trials**: The proportion of information from trials at high risk of bias is \n",
    "sufficient to affect the interpretation of results.\n",
    "\"\"\"\n",
    "\n",
    "# Create a ChatPromptTemplate using the RoB level template\n",
    "roblevel_prompt = ChatPromptTemplate.from_template(roblevel_template)\n",
    "\n",
    "# Chain the prompt, model, and output parser to create the RoB level chain\n",
    "roblevel_chain = roblevel_prompt | gpt4_model | str_output_parser\n"
   ]
  },
  {
   "cell_type": "code",
   "execution_count": null,
   "id": "0e967d88",
   "metadata": {},
   "outputs": [],
   "source": [
    "# Define an asynchronous function to determine the overall Risk of Bias (RoB) for each document\n",
    "async def roblevel_from_sqa(dokument_list):\n",
    "    # Extract the risk of bias signalling question assessments for each document\n",
    "    rob_sqa_list = [doc.rob_sqa for doc in dokument_list]\n",
    "    \n",
    "    # Run the RoB level chain on the risk of bias assessments of all documents\n",
    "    roblevels = await roblevel_chain.abatch(rob_sqa_list)\n",
    "    \n",
    "    # Assign the overall Risk of Bias levels to each document and print the results\n",
    "    for i in range(len(dokument_list)):\n",
    "        dokument_list[i].rob = roblevels[i]\n",
    "        print(f\"Document {i+1}:\")\n",
    "        print(\"Risk of bias levels:\", dokument_list[i].rob)\n",
    "        print(\"-\" * 30)  # Separator\n",
    "\n",
    "# Usage: Run the function on the dokument_list\n",
    "await roblevel_from_sqa(dokument_list)"
   ]
  },
  {
   "cell_type": "code",
   "execution_count": null,
   "id": "77b3fad6",
   "metadata": {},
   "outputs": [],
   "source": [
    "# Save dokument_list with pickle\n",
    "import pickle\n",
    "\n",
    "with open(\"dokument_list.pkl\", \"wb\") as file:\n",
    "    pickle.dump(dokument_list, file)"
   ]
  },
  {
   "cell_type": "code",
   "execution_count": null,
   "id": "1e80f9ec",
   "metadata": {},
   "outputs": [],
   "source": [
    "# debug print\n",
    "print(dokument_list[3].DOI)\n",
    "print(dokument_list[3].rob)"
   ]
  },
  {
   "cell_type": "code",
   "execution_count": null,
   "id": "d5f3a5f9",
   "metadata": {},
   "outputs": [],
   "source": []
  }
 ],
 "metadata": {
  "kernelspec": {
   "display_name": "sample_env",
   "language": "python",
   "name": "sample_env"
  },
  "language_info": {
   "codemirror_mode": {
    "name": "ipython",
    "version": 3
   },
   "file_extension": ".py",
   "mimetype": "text/x-python",
   "name": "python",
   "nbconvert_exporter": "python",
   "pygments_lexer": "ipython3",
   "version": "3.9.2"
  }
 },
 "nbformat": 4,
 "nbformat_minor": 5
}
