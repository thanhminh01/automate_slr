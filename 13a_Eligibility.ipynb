{
 "cells": [
  {
   "cell_type": "code",
   "execution_count": null,
   "id": "af63aa31",
   "metadata": {},
   "outputs": [],
   "source": [
    "import os\n",
    "os.environ[\"OPENAI_API_KEY\"]=\"Your_GPT_key_here\"\n",
    "# Specify your research topic\n",
    "research_topic = \"How accessibility can be improved using mixed reality?\""
   ]
  },
  {
   "cell_type": "code",
   "execution_count": null,
   "id": "7db11ddb",
   "metadata": {},
   "outputs": [],
   "source": [
    "from dokument import Dokument\n",
    "from synthesis import Synthesis\n",
    "# Could replace your synthesis_task variable name, such as something that represents the research topic\n",
    "synthesis_task = Synthesis(research_topic)\n",
    "\n",
    "import pickle\n",
    "with open(\"dokument_list.pkl\", \"rb\") as file:\n",
    "    dokument_list = pickle.load(file)"
   ]
  },
  {
   "cell_type": "code",
   "execution_count": null,
   "id": "58c8a9ca",
   "metadata": {},
   "outputs": [],
   "source": [
    "# Define template for determining eligibility based on a research topic in \"0\" or \"1\"\n",
    "eligibility_bool_template = \"\"\"\n",
    "Consider the following research topic:\n",
    "{topic}\n",
    "Examine the following document and decide whether or not the document is\n",
    "eligible as research material for the research topic. Response with \"1\" if yes, \"0\" if no\n",
    "{docs}\n",
    "\"\"\"\n",
    "# Format the template with the specified research topic\n",
    "eligibility_bool_template_formatted = eligibility_bool_template.format(topic=research_topic, docs=\"{docs}\")\n",
    "\n",
    "# Create a Prompt Template using the formatted eligibility template\n",
    "from langchain.prompts import ChatPromptTemplate\n",
    "eligibility_bool_prompt = ChatPromptTemplate.from_template(eligibility_bool_template_formatted)\n",
    "\n",
    "# Define the language model with 0 temperature\n",
    "from langchain_openai import ChatOpenAI\n",
    "gpt4_model = ChatOpenAI(temperature=0, model_name=\"gpt-4-0125-preview\")\n",
    "\n",
    "# Define output parser to handle output\n",
    "from langchain.schema.output_parser import StrOutputParser\n",
    "str_output_parser = StrOutputParser()\n",
    "\n",
    "# Final chain for determining eligibility based on a research topic in \"0\" or \"1\"\n",
    "eligibility_bool_chain = eligibility_bool_prompt | gpt4_model | str_output_parser"
   ]
  },
  {
   "cell_type": "code",
   "execution_count": null,
   "id": "2a4f5bda",
   "metadata": {},
   "outputs": [],
   "source": [
    "# Define template for determining eligibility based on a research topic\n",
    "eligibility_template = \"\"\"\n",
    "Consider the following research topic:\n",
    "{topic}\n",
    "Examine the following document and decide whether or not the document is\n",
    "eligible as research material for the research topic. Answer with Yes or No, then explain your response.\n",
    "{docs}\n",
    "\"\"\"\n",
    "\n",
    "# Format the template with the specified research topic\n",
    "eligibility_template_formatted = eligibility_template.format(topic=research_topic, docs=\"{docs}\")\n",
    "\n",
    "# Create a Prompt Template using the formatted eligibility template\n",
    "eligibility_prompt = ChatPromptTemplate.from_template(eligibility_template_formatted)\n",
    "\n",
    "# Final chain for determining eligibility based on a research topic\n",
    "eligibility_chain = eligibility_prompt | gpt4_model | str_output_parser"
   ]
  },
  {
   "cell_type": "code",
   "execution_count": null,
   "id": "512fa07d",
   "metadata": {},
   "outputs": [],
   "source": [
    "# Define asynchronous function to run a batch of requests with the chain using a list of document input\n",
    "async def eligibility_bool_from_raw_data(dokument_list):\n",
    "    doi_list = [doc.DOI for doc in dokument_list]\n",
    "    # Create list of raw data from the document list for input to the chain\n",
    "    raw_data_list = [doc.raw_data for doc in dokument_list]\n",
    "    # Run the eligibility chains on the input\n",
    "    eligibility_bool_list = await eligibility_bool_chain.abatch(raw_data_list)\n",
    "    eligibility_reasoning = await eligibility_chain.abatch(raw_data_list)\n",
    "\n",
    "\n",
    "    for i in range(len(dokument_list)):\n",
    "        # Save the eligibility answers to the documents in the list\n",
    "        dokument_list[i].eligibility = eligibility_reasoning[i]\n",
    "        print(eligibility_bool_list[i], \"\\n\")\n",
    "        print(eligibility_reasoning[i], \"\\n\")\n",
    "        # Assign document to list of eligible documents for synthesis task\n",
    "        if (eligibility_bool_list[i] == \"1\") & (doi_list[i] == dokument_list[i].DOI):\n",
    "            synthesis_task.add_eligible_document(dokument_list[i])\n",
    "\n",
    "# Usage: Run the function on the dokument_list\n",
    "await eligibility_bool_from_raw_data(dokument_list)"
   ]
  },
  {
   "cell_type": "code",
   "execution_count": null,
   "id": "f2c12b57",
   "metadata": {},
   "outputs": [],
   "source": [
    "# Check number of eligible documents\n",
    "number_of_eligible_doc = len(synthesis_task.eligible_documents)\n",
    "print(\"There are\",number_of_eligible_doc,\" documents eligible for the chosen research topic\"  )\n",
    "\n",
    "# Example: Check eligibility of document 5\n",
    "print(dokument_list[4].eligibility)"
   ]
  },
  {
   "cell_type": "code",
   "execution_count": null,
   "id": "31f72034",
   "metadata": {},
   "outputs": [],
   "source": [
    "import pickle\n",
    "# Save synthesis info. Specify pickle file name of your choice, will be used for synthesis\n",
    "with open(\"synthesis_task.pkl\", \"wb\") as file:\n",
    "    pickle.dump(synthesis_task, file)"
   ]
  },
  {
   "cell_type": "code",
   "execution_count": null,
   "id": "52df34a1",
   "metadata": {},
   "outputs": [],
   "source": []
  }
 ],
 "metadata": {
  "kernelspec": {
   "display_name": "sample_env",
   "language": "python",
   "name": "sample_env"
  },
  "language_info": {
   "codemirror_mode": {
    "name": "ipython",
    "version": 3
   },
   "file_extension": ".py",
   "mimetype": "text/x-python",
   "name": "python",
   "nbconvert_exporter": "python",
   "pygments_lexer": "ipython3",
   "version": "3.9.2"
  }
 },
 "nbformat": 4,
 "nbformat_minor": 5
}
